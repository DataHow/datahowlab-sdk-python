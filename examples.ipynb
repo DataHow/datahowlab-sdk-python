{
    "cells": [
        {
            "cell_type": "markdown",
            "metadata": {},
            "source": [
                "# DataHowLab SDK"
            ]
        },
        {
            "cell_type": "markdown",
            "metadata": {},
            "source": [
                "DataHowLab SDK is a software development kit (SDK) designed to simplify and streamline the integration of DataHowLab's API into a simple Python package. This SDK provides developers with a convenient and efficient way to interact with DataHowLab's API, enabling access to the Experiments, Variables, Projects and Models, their data, as well as making predictions using these models with new sets of data."
            ]
        },
        {
            "cell_type": "markdown",
            "metadata": {},
            "source": [
                "### Prerequisites:\n",
                "\n",
                "- **Python:** Ensure you have Python installed (version 3.9 or higher) on your system.\n",
                "- **API Key:** Make sure you have a valid DataHowLab API Key. If you don't have an API key, please contact your DataHowLab provider."
            ]
        },
        {
            "cell_type": "markdown",
            "metadata": {},
            "source": [
                "### Importing SDK Package\n",
                "\n",
                "Before starting to use DataHowLab's SDK, make sure you have a valid API Key. \n",
                "* You can store your key in a `.env` file in your directory with the key `DHL_API_KEY=your_api_key`. Otherwise, you can use your key as a direct argument in the `APIKeyAuthentication`, like\n",
                "``` key = APIKeyAuthentication(api_key = \"your_api_key\")```. \n",
                "* After this, use your key to create your DataHowLabClient: ``` DataHowLabClient(auth_key=key, base_url=\"https://yourdomain.datahowlab.ch/\")```, where `base_url` correspond to your DataHowLab domain."
            ]
        },
        {
            "cell_type": "code",
            "execution_count": null,
            "metadata": {},
            "outputs": [],
            "source": [
                "%load_ext dotenv\n",
                "%dotenv\n",
                "from dhl_sdk import DataHowLabClient, APIKeyAuthentication\n",
                "\n",
                "# DHL_API_KEY env var is loaded from the .env file\n",
                "key = APIKeyAuthentication()\n",
                "\n",
                "# This is an example. Change the next line to your DataHowLab Instance\n",
                "your_url = \"https://yourdomain.datahowlab.ch/\"\n",
                "client = DataHowLabClient(auth_key=key, base_url=your_url)"
            ]
        },
        {
            "cell_type": "markdown",
            "metadata": {},
            "source": [
                "### Accessing your DataHowLab Data\n",
                "\n",
                "Using your DataHowLabClient, you can get a list and access your:\n",
                "\n",
                "* Products\n",
                "* Variables\n",
                "* Experiments\n",
                "* Recipes\n",
                "* Projects (Inside Projects you can also access your \"Datasets\" and \"Models\")\n",
                "\n",
                "\n",
                "When accessing your DataBase Entities, all the results will be in a Iterable form. Because of that, you can access each element of your search by using the `next` method, just like a normal Python Iterable object. For more information regarding this, please consult the official python documentation regarding [iterables](https://docs.python.org/3/glossary.html#term-iterable), [iterators](https://docs.python.org/3/glossary.html#term-iterator) and the [next](https://docs.python.org/3/library/functions.html#next) function.\n",
                "\n",
                "In order to get more information about your entities, you can access the fields `name` and `description` present in all entities. For Products and Variables, you can also access the `code` field. "
            ]
        },
        {
            "cell_type": "code",
            "execution_count": null,
            "metadata": {},
            "outputs": [],
            "source": [
                "# Products can be filtered by code \n",
                "\n",
                "products = client.get_products(code = \"ExampleProductCode\")\n",
                "product = next(products)\n",
                "\n",
                "product_name = product.name\n",
                "product_code = product.code\n",
                "product_description = product.description"
            ]
        },
        {
            "cell_type": "code",
            "execution_count": null,
            "metadata": {},
            "outputs": [],
            "source": [
                "# Variables can be filtered by code, group, or variable type \n",
                "\n",
                "variables = client.get_variables(group=\"ExampleGroup\")\n",
                "variable = next(variables)\n",
                "\n",
                "#printing the variable name\n",
                "print(variable.name)\n",
                "\n",
                "# if the variable was not the one you wanted, you can keep iterating\n",
                "next(variables)\n",
                "print(variable.name)\n",
                "\n",
                "wanted_variable = next(variables)"
            ]
        },
        {
            "cell_type": "code",
            "execution_count": null,
            "metadata": {},
            "outputs": [],
            "source": [
                "# Experiments can be filtered by name or product. \n",
                "# If you want to filter by product you should first get your product\n",
                "# and then use it to filter the experiments.\n",
                "\n",
                "experiments = client.get_experiments(name=\"ExampleExperimentName\", product=product)\n",
                "experiment = next(experiments)"
            ]
        },
        {
            "cell_type": "code",
            "execution_count": null,
            "metadata": {},
            "outputs": [],
            "source": [
                "# Projects can be filtered by name and project type \n",
                "# (by default, project_type = \"cultivation\", but it can also be \"spectroscopy\")\n",
                "\n",
                "projects = client.get_projects(name=\"exampleproject\")\n",
                "project = next(projects)"
            ]
        },
        {
            "cell_type": "markdown",
            "metadata": {},
            "source": [
                "### Exporting Experiment Data\n",
                "\n",
                "After selecting an experiment, you can download the data from that experiment using the `get_data` method, by providing your `client` as an argument. \n",
                "\n",
                "The results of the method are in a dictionary format where: \n",
                "\n",
                "    {\"Variable Code 1\": \n",
                "        {\n",
                "            \"timestamps\": [0,1,2], \n",
                "            \"values\": [val1, val2, val3] \n",
                "        },\n",
                "    \"Variable Code 2\":     \n",
                "        {\n",
                "            \"timestamps\": [0, 1, 2], \n",
                "            \"values\": [val1, val2, val3]  \n",
                "        }\n",
                "    }"
            ]
        },
        {
            "cell_type": "code",
            "execution_count": null,
            "metadata": {},
            "outputs": [],
            "source": [
                "exp_data = experiment.get_data(client)\n",
                "print(exp_data)"
            ]
        },
        {
            "cell_type": "markdown",
            "metadata": {},
            "source": [
                "You can also access the data inside your datasets through your projects. After you select a project, use to the method `get_datasets` to find your dataset. Similar to the `experiments` and `recipes`, you can also filter the results by the dataset name. After selecting it, download the data using the `get_data(client)` method of the dataset.\n",
                " \n",
                "This will return a list of dicts associated with each experiment. To check the information regarding each experiment, just access the `experiment` field inside your dataset: `dataset.experiments`"
            ]
        },
        {
            "cell_type": "code",
            "execution_count": null,
            "metadata": {},
            "outputs": [],
            "source": [
                "# You can filter the datasets by name\n",
                "\n",
                "# example of looping through all datasets to find with \"test\" in the name\n",
                "datasets = project.get_datasets()\n",
                "for ds in datasets:\n",
                "    if \"test\" in ds.name:\n",
                "        dataset = ds\n",
                "        break\n",
                "    \n",
                "dataset_data = dataset.get_data(client)"
            ]
        },
        {
            "cell_type": "markdown",
            "metadata": {},
            "source": [
                "### Importing Data to DataHowLab's DataBase\n",
                "\n",
                "The SDK also allows the user to import new experiments to the DataBase (DB). This process implies the creation/selection of a Product, Variables and Data to create a new experiment. \n",
                "\n",
                "In case you want to use Entities already created, just get them using the methods shown above. \n",
                "\n",
                "In case you need to create new entities you need to initiate them using the `new` method of each one of the entities. Here is an example workflow:"
            ]
        },
        {
            "cell_type": "code",
            "execution_count": null,
            "metadata": {},
            "outputs": [],
            "source": [
                "from dhl_sdk import Product, Variable, Experiment, VariableCategorical, VariableNumeric\n",
                "\n",
                "product = Product.new(name=\"ExampleProduct\", code=\"EXPRD\", description=\"Example Product\")\n",
                "\n",
                "variable1 = Variable.new(code=\"SDKv1\", \n",
                "                         name=\"SDK Variable 1\", \n",
                "                         description=\"This is a variable created with the SDK\", \n",
                "                         measurement_unit=\"l\", \n",
                "                         variable_group=\"X Variables\", \n",
                "                         variable_type=VariableNumeric()\n",
                "                         )\n",
                "variable2 = Variable.new(code=\"SDKv2\", \n",
                "                         name=\"SDK Variable 2\", \n",
                "                         description=\"This is a variable created with the SDK\", \n",
                "                         measurement_unit=\"l\", \n",
                "                         variable_group=\"Z Variables\", \n",
                "                         variable_type=VariableCategorical()\n",
                "                         )"
            ]
        },
        {
            "cell_type": "markdown",
            "metadata": {},
            "source": [
                "This will create a local version of the entities. In order to use them in a new experiment, you need to upload them to the DB. For that, use the `create` method of `DataHowLabClient`. \n",
                "This method will validate your new entities and upload them in case everything is correct."
            ]
        },
        {
            "cell_type": "code",
            "execution_count": null,
            "metadata": {},
            "outputs": [],
            "source": [
                "product = client.create(product)\n",
                "variable1 = client.create(variable1)\n",
                "variable2 = client.create(variable2)"
            ]
        },
        {
            "cell_type": "markdown",
            "metadata": {},
            "source": [
                "For a new experiment, your data needs to be in a specific format:\n",
                "\n",
                "    {\"Variable Code 1\": \n",
                "        {\n",
                "            \"timestamps\": [0,1,2], \n",
                "            \"values\": [val1, val2, val3] \n",
                "        },\n",
                "    \"Variable Code 2\":     \n",
                "        {\n",
                "            \"timestamps\": [0, 1, 2], \n",
                "            \"values\": [val1, val2, val3]  \n",
                "        }\n",
                "    }"
            ]
        },
        {
            "cell_type": "code",
            "execution_count": null,
            "metadata": {},
            "outputs": [],
            "source": [
                "run_data = {\n",
                "            \"SDKv1\": {\n",
                "                \"timestamps\": [\n",
                "                    0,\n",
                "                    86400,\n",
                "                    172800,\n",
                "                ],\n",
                "                \"values\": [\n",
                "                    1.1,\n",
                "                    1.2,\n",
                "                    1.3\n",
                "                ]\n",
                "            },\n",
                "            \"SDKv2\": {\n",
                "                \"timestamps\": [\n",
                "                    0],\n",
                "                \"values\": [\n",
                "                    \"A\"]\n",
                "\n",
                "            }\n",
                "}"
            ]
        },
        {
            "cell_type": "markdown",
            "metadata": {},
            "source": [
                "After collecting your new experiment (as the `run_data` example above), you can create a new experiment using `Experiment.new` method. After that, use the `client.create` method to upload the data to the DB."
            ]
        },
        {
            "cell_type": "code",
            "execution_count": null,
            "metadata": {},
            "outputs": [],
            "source": [
                "experiment = Experiment.new(name=\"SDK EXP\", \n",
                "                            description=\"new experiment example for sdk\", \n",
                "                            product=product, \n",
                "                            variables=[variable1, variable2], \n",
                "                            data_type=\"run\", \n",
                "                            data=run_data, \n",
                "                            variant=\"run\", \n",
                "                            start_time=\"2024-01-01T00:00:00Z\", \n",
                "                            end_time=\"2024-01-03T00:00:00Z\")\n",
                "\n",
                "client.create(experiment)"
            ]
        },
        {
            "cell_type": "markdown",
            "metadata": {},
            "source": [
                "If, for example, you want to add a new experiment with the same Product and Variables as an already created experiment, you can do it like this:"
            ]
        },
        {
            "cell_type": "code",
            "execution_count": null,
            "metadata": {},
            "outputs": [],
            "source": [
                "experiments = client.get_experiments(name=\"Experiment to Fork\")\n",
                "old_experiment = next(experiments)\n",
                "\n",
                "new_data = {\n",
                "            \"SDKv1\": {\n",
                "                \"timestamps\": [\n",
                "                    0,\n",
                "                    86400,\n",
                "                    172800,\n",
                "                ],\n",
                "                \"values\": [\n",
                "                    1.1,\n",
                "                    2.2,\n",
                "                    3.3\n",
                "                ]\n",
                "            },\n",
                "            \"SDKv2\": {\n",
                "                \"timestamps\": [\n",
                "                    0],\n",
                "                \"values\": [\n",
                "                    \"B\"]\n",
                "\n",
                "            }\n",
                "}\n",
                "\n",
                "new_experiment = Experiment.new(name=\"Forked Experiment\",\n",
                "                                description=\"new experiment example for sdk\",\n",
                "                                product=old_experiment.product,\n",
                "                                variables=old_experiment.variables,\n",
                "                                data_type=\"run\",\n",
                "                                data=new_data,\n",
                "                                variant=\"run\",\n",
                "                                start_time=\"2024-02-01T00:00:00Z\",\n",
                "                                end_time=\"2024-02-03T00:00:00Z\")\n",
                "client.create(new_experiment)"
            ]
        },
        {
            "cell_type": "markdown",
            "metadata": {},
            "source": [
                "### Using your models \n",
                "\n",
                "DataHowLab's SDK also allows you to use your trained models to run new predictions based on new data. \n",
                "\n",
                "To access your models, you need to find your `project` of interest and, inside this project, find your model using the `get_models` method."
            ]
        },
        {
            "cell_type": "code",
            "execution_count": null,
            "metadata": {},
            "outputs": [],
            "source": [
                "projects = client.get_projects(name=\"exampleproject\")\n",
                "project = next(projects)\n",
                "\n",
                "models = project.get_models(name=\"ExampleModel\")\n",
                "model = next(models)"
            ]
        },
        {
            "cell_type": "markdown",
            "metadata": {},
            "source": [
                "Inside the model, you can access the dataset used by `model.dataset` and also check the variables used to train the model `model.model_variables`. This last property returns a list of the `Variable` class. If you want to just check the variable codes, you can use the method `model.get_model_variables_codes()`. "
            ]
        },
        {
            "cell_type": "code",
            "execution_count": null,
            "metadata": {},
            "outputs": [],
            "source": [
                "model_dataset = model.dataset \n",
                "# you can access the data inside the dataset \n",
                "model_data = model_dataset.get_data(client)\n",
                "\n",
                "\n",
                "variables = model.model_variables\n",
                "variable_codes = model.get_model_variables_codes()"
            ]
        },
        {
            "cell_type": "markdown",
            "metadata": {},
            "source": [
                "The available projects are Spectroscopy and Cultivation. Inside Cultivation, we can choose Historical and Propagation models."
            ]
        },
        {
            "cell_type": "markdown",
            "metadata": {},
            "source": [
                "#### Spectroscopy \n",
                "\n",
                "To search your **Spectroscopy** projects, you can add `project_type=\"spectroscopy\"` to the `get_projects` method. "
            ]
        },
        {
            "cell_type": "code",
            "execution_count": null,
            "metadata": {},
            "outputs": [],
            "source": [
                "projects = client.get_projects(name=\"Spectra\", project_type=\"spectroscopy\")\n",
                "project = next(projects)\n",
                "\n",
                "models = project.get_models(name=\"SpectraModel\")\n",
                "model = next(models)"
            ]
        },
        {
            "cell_type": "markdown",
            "metadata": {},
            "source": [
                "In order to use the model, we just need some data! The format used for the spectra is a 2d list, where each line is the spectra and the columns are corresponding to the wavenumbers. "
            ]
        },
        {
            "cell_type": "code",
            "execution_count": null,
            "metadata": {},
            "outputs": [],
            "source": [
                "spectra = [[1, 2, 3, 4, 5], [6, 7, 8, 9, 10], [11, 12, 13, 14, 15]]\n",
                "predictions = model.predict(spectra)"
            ]
        },
        {
            "cell_type": "markdown",
            "metadata": {},
            "source": [
                "You can also import this data from a .csv file or .xls file, you just need to convert the data to a list of lists. For example, using numpy to read an csv: "
            ]
        },
        {
            "cell_type": "code",
            "execution_count": null,
            "metadata": {},
            "outputs": [],
            "source": [
                "import numpy as np\n",
                "\n",
                "spectra = np.genfromtxt(\"demo-spectra.csv\", delimiter=',')\n",
                "predictions = model.predict(spectra)"
            ]
        },
        {
            "cell_type": "markdown",
            "metadata": {},
            "source": [
                "#### Cultivation\n",
                "\n",
                "To search your **Cultivation** projects, you can add `project_type=\"cultivation\"` to the `get_projects` method. \n",
                "\n",
                "After that, in the `get_models` method, you can select between `historical` and `propagation` models."
            ]
        },
        {
            "cell_type": "code",
            "execution_count": null,
            "metadata": {},
            "outputs": [],
            "source": [
                "projects = client.get_projects(name=\"CultivationPrjoject\", project_type=\"cultivation\")\n",
                "project = next(projects)"
            ]
        },
        {
            "cell_type": "markdown",
            "metadata": {},
            "source": [
                "For Propagation models: "
            ]
        },
        {
            "cell_type": "code",
            "execution_count": null,
            "metadata": {},
            "outputs": [],
            "source": [
                "# by default model_type = \"propagation\", but you can also filter by model_type = \"historical\", to get the historical models\n",
                "\n",
                "models = project.get_models(name=\"CultivationModel\", model_type=\"propagation\")\n",
                "model = next(models)"
            ]
        },
        {
            "cell_type": "markdown",
            "metadata": {},
            "source": [
                "The prediction function requires 2 arguments, `timestamps` and `inputs`, and one optional argument `timestamps_unit`. \n",
                "\n",
                "* `timestamps` is a list of the timestamps where we expect to have predictions. This list corresponds to relative `timestamps`, meaning that all values will be related to the first one. \n",
                "* `inputs` is a dictionary with the variables and the necessary values for predictions. The keys must be the Codes of the\n",
                "            input variables, and the values must be lists of the same length as the timestamps. \n",
                "* `timestamps_unit` is the unit of the timestamps. It can be `s`,`m`,`h`,`d` for 'seconds', 'minutes', 'hours', 'days'\n",
                "\n",
                "As an example: "
            ]
        },
        {
            "cell_type": "code",
            "execution_count": null,
            "metadata": {},
            "outputs": [],
            "source": [
                "timestamps = [1,2,3,4,5,6,7]\n",
                "inputs = {\"var1\": [42], \"var2\": [0.3], \"var3\": [0.5], \"var4\": [0,2,3,3,3,3,3]}\n",
                "result = model.predict(timestamps, inputs, timestamps_unit=\"d\")"
            ]
        },
        {
            "cell_type": "markdown",
            "metadata": {},
            "source": [
                "The structure of the `inputs` for the **propagation** models follows the following rules:\n",
                "\n",
                "* All model variables must be present (To check what variables are needed for the prediction, use the `model.model_variables` property.)\n",
                "* Some variable groups need to be complete for the prediction - `Flows/Feeds` and `W`. For this variable groups, the list of values must be of the same dimension as the `timestamps`.  \n",
                "* For the rest of the variables (`X`, `Z`, `Feed Concentration`), only the initial value must be provided. \n",
                "* Only `Z` variables can be of type different than `numeric`\n",
                "\n",
                "The prediction works from the initial given point onwards. "
            ]
        },
        {
            "cell_type": "markdown",
            "metadata": {},
            "source": [
                "As for `Historical` models, the prediction functionality works similarly.\n",
                "\n",
                "The prediction function requires 3 arguments, `timestamps`, `inputs`. \n",
                "\n",
                "* `timestamps` is a list of the timestamps where we expect to have predictions.\n",
                "* `steps` a list of steps for prediction in the run, , representing the steps from the start of the process. \n",
                "            This steps should match the length of the timestamps and start as 0.\n",
                "* `inputs` is a dictionary with the variables and the necessary values for predictions. The keys must be the Codes of the\n",
                "            input variables, and the values must be lists of the same length as the timestamps.\n",
                "\n",
                "As an example: "
            ]
        },
        {
            "cell_type": "code",
            "execution_count": null,
            "metadata": {},
            "outputs": [],
            "source": [
                "models = project.get_models(name=\"HistoricalModel\", model_type=\"historical\")\n",
                "model = next(models)\n",
                "\n",
                "timestamps = [86400, 172800, 259200, 345600, 432000, 518400, 604800]\n",
                "steps = [0,1,2,3,4,5,6]\n",
                "inputs = {\"var1\": [42], \"var2\": [0.3], \"var3\": [0.5], \"var4\": [0,2,3,3,3,3,3]}\n",
                "result = model.predict(timestamps, steps, inputs, timestamps_unit=\"s\")"
            ]
        },
        {
            "cell_type": "markdown",
            "metadata": {},
            "source": [
                "The structure of the `inputs` for the **historical** models follows the following rules:\n",
                "\n",
                "* All model variables must be present. \n",
                "* Some variable groups need to be complete for the prediction - `Flows/Feeds` and `W`. For this variable groups, the list of values must be of the same dimension as the `timestamps` and not have missing values.\n",
                "* For `X` variables, the dimensions of the value list must be the same as the `timestamps`, however, missing values are allowed. For better prediction performance, it's advisable that you give the most complete input value list. \n",
                "* For `Z` and `Feed Concentration` variables, only the initial value must be provided. \n",
                "\n",
                "The prediction only returns the output variables prediction. "
            ]
        }
    ],
    "metadata": {
        "kernelspec": {
            "display_name": "dhl-sdk-mgyGPzBg-py3.9",
            "language": "python",
            "name": "python3"
        },
        "language_info": {
            "codemirror_mode": {
                "name": "ipython",
                "version": 3
            },
            "file_extension": ".py",
            "mimetype": "text/x-python",
            "name": "python",
            "nbconvert_exporter": "python",
            "pygments_lexer": "ipython3",
            "version": "3.9.5"
        }
    },
    "nbformat": 4,
    "nbformat_minor": 2
}