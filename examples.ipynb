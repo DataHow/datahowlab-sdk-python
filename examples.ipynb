{
 "cells": [
  {
   "cell_type": "markdown",
   "metadata": {},
   "source": [
    "# DataHowLab SDK"
   ]
  },
  {
   "cell_type": "markdown",
   "metadata": {},
   "source": [
    "DataHowLab SDK is a software development kit (SDK) designed to simplify and streamline the integration of DataHowLab's API into a simple Python package. This SDK provides developers with a convenient and efficient way to interact with DataHowLab's API, enabling access to the Experiments, Variables, Projects and Models, their data, as well as making predictions using these models with new sets of data."
   ]
  },
  {
   "cell_type": "markdown",
   "metadata": {},
   "source": [
    "### Prerequisites:\n",
    "\n",
    "- **Python:** Ensure you have Python installed (version 3.9 or higher) on your system.\n",
    "- **API Key:** Make sure you have a valid DataHowLab API Key. If you don't have an API key, please contact your DataHowLab provider."
   ]
  },
  {
   "cell_type": "markdown",
   "metadata": {},
   "source": [
    "### Importing SDK Package\n",
    "\n",
    "Before starting to use DataHowLab's SDK, make sure you have a valid API Key. \n",
    "* You can store your key in a `.env` file in your directory with the key `DHL_API_KEY=your_api_key`. Otherwise, you can use your key as a direct argument in the `APIKeyAuthentication`, like\n",
    "``` key = APIKeyAuthentication(api_key = \"your_api_key\")```. \n",
    "* After this, use your key to create your DataHowLabClient: ``` DataHowLabClient(auth_key=key, base_url=\"https://yourdomain.datahowlab.ch/\")```, where `base_url` correspond to your DataHowLab domain and `verify_ssl` controls whether the SSL certificates are verified (verification is enabled by *default*).\n",
    "\n",
    "*Note*: Disabling SSL verification should only be done in controlled environments, such as on premise deployments with trusted servers with self-signed certificates."
   ]
  },
  {
   "cell_type": "code",
   "execution_count": null,
   "metadata": {},
   "outputs": [],
   "source": [
    "%load_ext dotenv\n",
    "%dotenv\n",
    "from dhl_sdk import DataHowLabClient, APIKeyAuthentication\n",
    "\n",
    "# DHL_API_KEY env var is loaded from the .env file\n",
    "key = APIKeyAuthentication(\"KEY\")\n",
    "\n",
    "# This is an example. Change the next line to your DataHowLab Instance\n",
    "your_url = \"https://yourdomain.datahowlab.ch/\"\n",
    "client = DataHowLabClient(auth_key=key, base_url=your_url, verify_ssl=True)"
   ]
  },
  {
   "cell_type": "markdown",
   "metadata": {},
   "source": [
    "### Accessing your DataHowLab Data\n",
    "\n",
    "Using your DataHowLabClient, you can get a list and access your:\n",
    "\n",
    "* Products\n",
    "* Variables\n",
    "* Experiments\n",
    "* Recipes\n",
    "* Projects (Inside Projects you can also access your \"Datasets\" and \"Models\")\n",
    "\n",
    "\n",
    "When accessing your DataBase Entities, all the results will be in a Iterable form. Because of that, you can access each element of your search by using the `next` method, just like a normal Python Iterable object. For more information regarding this, please consult the official python documentation regarding [iterables](https://docs.python.org/3/glossary.html#term-iterable), [iterators](https://docs.python.org/3/glossary.html#term-iterator) and the [next](https://docs.python.org/3/library/functions.html#next) function.\n",
    "\n",
    "In order to get more information about your entities, you can access the fields `name` and `description` present in all entities. For Products and Variables, you can also access the `code` field. "
   ]
  },
  {
   "cell_type": "code",
   "execution_count": null,
   "metadata": {},
   "outputs": [],
   "source": [
    "# Products can be filtered by code \n",
    "\n",
    "products = client.get_products(code = \"ExampleProductCode\")\n",
    "product = next(products)\n",
    "\n",
    "product_name = product.name\n",
    "product_code = product.code\n",
    "product_description = product.description"
   ]
  },
  {
   "cell_type": "code",
   "execution_count": null,
   "metadata": {},
   "outputs": [],
   "source": [
    "# Variables can be filtered by code, group, or variable type \n",
    "\n",
    "variables = client.get_variables(group=\"ExampleGroup\")\n",
    "variable = next(variables)\n",
    "\n",
    "#printing the variable name\n",
    "print(variable.name)\n",
    "\n",
    "# if the variable was not the one you wanted, you can keep iterating\n",
    "wanted_variable = next(variables)\n",
    "print(wanted_variable.name)"
   ]
  },
  {
   "cell_type": "code",
   "execution_count": null,
   "metadata": {},
   "outputs": [],
   "source": [
    "# Experiments can be filtered by name or product. \n",
    "# If you want to filter by product you should first get your product\n",
    "# and then use it to filter the experiments.\n",
    "\n",
    "experiments = client.get_experiments(name=\"ExampleExperimentName\", product=product)\n",
    "experiment = next(experiments)"
   ]
  },
  {
   "cell_type": "code",
   "execution_count": null,
   "metadata": {},
   "outputs": [],
   "source": [
    "# Projects can be filtered by name and project type \n",
    "# (by default, project_type = \"cultivation\", but it can also be \"spectroscopy\")\n",
    "\n",
    "projects = client.get_projects(name=\"exampleproject\")\n",
    "project = next(projects)"
   ]
  },
  {
   "cell_type": "markdown",
   "metadata": {},
   "source": [
    "### Exporting Experiment Data\n",
    "\n",
    "After selecting an experiment, you can download the data from that experiment using the `get_data` method, by providing your `client` as an argument. \n",
    "\n",
    "The results of the method are in a dictionary format where: \n",
    "\n",
    "    {\"Variable Code 1\": \n",
    "        {\n",
    "            \"timestamps\": [0,1,2], \n",
    "            \"values\": [val1, val2, val3] \n",
    "        },\n",
    "    \"Variable Code 2\":     \n",
    "        {\n",
    "            \"timestamps\": [0, 1, 2], \n",
    "            \"values\": [val1, val2, val3]  \n",
    "        }\n",
    "    }"
   ]
  },
  {
   "cell_type": "code",
   "execution_count": null,
   "metadata": {},
   "outputs": [],
   "source": [
    "exp_data = experiment.get_data(client)\n",
    "print(exp_data)"
   ]
  },
  {
   "cell_type": "markdown",
   "metadata": {},
   "source": [
    "You can also access the data inside your datasets through your projects. After you select a project, use to the method `get_datasets` to find your dataset. Similar to the `experiments` and `recipes`, you can also filter the results by the dataset name. After selecting it, download the data using the `get_data(client)` method of the dataset.\n",
    " \n",
    "This will return a list of dicts associated with each experiment. To check the information regarding each experiment, just access the `experiment` field inside your dataset: `dataset.experiments`"
   ]
  },
  {
   "cell_type": "code",
   "execution_count": null,
   "metadata": {},
   "outputs": [],
   "source": [
    "# You can filter the datasets by name\n",
    "\n",
    "# example of looping through all datasets to find with \"test\" in the name\n",
    "datasets = project.get_datasets()\n",
    "for ds in datasets:\n",
    "    if \"test\" in ds.name:\n",
    "        dataset = ds\n",
    "        break\n",
    "    \n",
    "dataset_data = dataset.get_data(client)"
   ]
  },
  {
   "cell_type": "markdown",
   "metadata": {},
   "source": [
    "### Importing Data to DataHowLab's DataBase\n",
    "\n",
    "The SDK also allows the user to import new experiments to the DataBase (DB). This process implies the creation/selection of a Product, Variables and Data to create a new experiment. \n",
    "\n",
    "In case you want to use Entities already created, just get them using the methods shown above. \n",
    "\n",
    "In case you need to create new entities you need to initiate them using the `new` method of each one of the entities. Here is an example workflow for a new Product:"
   ]
  },
  {
   "cell_type": "code",
   "execution_count": null,
   "metadata": {},
   "outputs": [],
   "source": [
    "from dhl_sdk import Product\n",
    "\n",
    "product = Product.new(name=\"ExampleProduct\", code=\"EXPRD\", description=\"Example Product\")"
   ]
  },
  {
   "cell_type": "markdown",
   "metadata": {},
   "source": [
    "And here is an example for creating 2 diferent variables: "
   ]
  },
  {
   "cell_type": "code",
   "execution_count": null,
   "metadata": {},
   "outputs": [],
   "source": [
    "from dhl_sdk import Variable, VariableNumeric, VariableCategorical\n",
    "\n",
    "variable1 = Variable.new(code=\"SDKv1\", \n",
    "                         name=\"SDK Variable 1\", \n",
    "                         description=\"This is a variable created with the SDK\", \n",
    "                         measurement_unit=\"l\", \n",
    "                         variable_group=\"X Variables\", \n",
    "                         variable_type=VariableNumeric()\n",
    "                         )\n",
    "variable2 = Variable.new(code=\"SDKv2\", \n",
    "                         name=\"SDK Variable 2\", \n",
    "                         description=\"This is a variable created with the SDK\", \n",
    "                         measurement_unit=\"l\", \n",
    "                         variable_group=\"Z Variables\", \n",
    "                         variable_type=VariableCategorical()\n",
    "                         )"
   ]
  },
  {
   "cell_type": "markdown",
   "metadata": {},
   "source": [
    "There are some limitation when creating a new variable, specially when selecting the `variable_group` and `variable_type`. \n",
    "\n",
    "To access a list of available Variable Groups, you can use the `get_valid_variable_groups` method from the `Variable` class:"
   ]
  },
  {
   "cell_type": "code",
   "execution_count": null,
   "metadata": {},
   "outputs": [],
   "source": [
    "#This will return a list of the valid variable groups, e.g. [\"X Variables\", \"Y Variables\", \"Z Variables\"]\n",
    "\n",
    "variable_groups = Variable.get_valid_variable_groups(client)\n",
    "print(variable_groups)"
   ]
  },
  {
   "cell_type": "markdown",
   "metadata": {},
   "source": [
    "For `variable_type`, you need to use one of the valid options. Consult the documentation of each class to have a better understanding of each type. \n",
    "\n",
    "Here are some examples:"
   ]
  },
  {
   "cell_type": "code",
   "execution_count": null,
   "metadata": {},
   "outputs": [],
   "source": [
    "from dhl_sdk import VariableLogical, VariableSpectrum, VariableSpectrumXAxis, VariableSpectrumYAxis\n",
    "\n",
    "\n",
    "# A Numeric variable with default value 3, min 1, and max 5\n",
    "numeric_type = VariableNumeric(default=3, min=1, max=5)\n",
    "\n",
    "\n",
    "# A Categorical variable with default value \"A\", possible values \"A\", \"B\", \"C\", and strict (menaing we can only use the values in the list)\n",
    "categorical_type = VariableCategorical(default=\"A\", values=[\"A\", \"B\", \"C\"], strict=True)\n",
    "\n",
    "\n",
    "# A Logical variable with default value True\n",
    "logical_type = VariableLogical(default=True)\n",
    "\n",
    "\n",
    "# A Spectrum variable that uses other 2 classes to define the spectrum VariableSpectrumXAxis and VariableSpectrumYAxis\n",
    "# VariableSpectrumXAxis defines the x axis of the spectrum and VariableSpectrumYAxis defines the y axis of the spectrum\n",
    "x_axis = VariableSpectrumXAxis(dimension=1000, unit=\"mm\", min=0, max=100)\n",
    "y_axis = VariableSpectrumYAxis(label=\"Intensity\")\n",
    "spectrum_type = VariableSpectrum(x_axis=x_axis, y_axis=y_axis)"
   ]
  },
  {
   "cell_type": "markdown",
   "metadata": {},
   "source": [
    "Using the `new` method of each entity will create a local version of the entities.\n",
    "\n",
    "In order to use them in a new experiment, you need to upload them to the DB. For that, use the `create` method of `DataHowLabClient`. \n",
    "\n",
    "This method will validate your new entities and upload them in case everything is correct."
   ]
  },
  {
   "cell_type": "code",
   "execution_count": null,
   "metadata": {},
   "outputs": [],
   "source": [
    "product = client.create(product)\n",
    "variable1 = client.create(variable1)\n",
    "variable2 = client.create(variable2)"
   ]
  },
  {
   "cell_type": "markdown",
   "metadata": {},
   "source": [
    "There is a special case for variables of type `Feeds/Flows`. Variables in this group must always be linked to other variables of type `X Variables` and `Feed Concentrations`. Besides this link, it is mandatory that you also reference a variable that indicates the initial Bioreactor Volume. \n",
    "\n",
    "To create a variable of this type, follow this suggested workflow, assuming you are creating all variables using the SDK and not using an already uploaded variable. If you want to link your new Feed to an existing variable, simply replace the variable creation steps with the previous instructions for searching for a particular `Variable`."
   ]
  },
  {
   "cell_type": "code",
   "execution_count": null,
   "metadata": {},
   "outputs": [],
   "source": [
    "# First, we get a variable for the initial bioreactor volume from the DB (this is just an example)\n",
    "\n",
    "bioreactor_volume = next(client.get_variables(code=\"Volume\"))\n",
    "\n",
    "# Next, create an X Variable that will be linked to the feed variable, e.g \"Glucose\"\n",
    "\n",
    "x_variable = Variable.new(code=\"GlcSDK\",\n",
    "                          name=\"Glucose SDK\",\n",
    "                          description=\"Glucose concentration in the medium\",\n",
    "                          measurement_unit=\"g/L\",\n",
    "                          variable_group=\"X Variables\",\n",
    "                          variable_type=VariableNumeric()\n",
    "                          )\n",
    "\n",
    "# Then create a Feed Concentration variable, a variable with the concentration of previous metabolites in the feed medium\n",
    "\n",
    "feed_concentration = Variable.new(code=\"BolusFeed_GlcSDK\",\n",
    "                                  name=\"Glucose Feed SDK\",\n",
    "                                  description=\"Glucose concentration in the feed medium\",\n",
    "                                  measurement_unit=\"g/L\",\n",
    "                                  variable_group=\"Feed Concentrations\",\n",
    "                                  variable_type=VariableNumeric()\n",
    "                                  )\n",
    "\n",
    "# Import the 2 new variables to the DB\n",
    "x_variable = client.create(x_variable)\n",
    "feed_concentration = client.create(feed_concentration)\n",
    "\n",
    "# this way, we already established all the necessary variables to link to a feed variable. \n",
    "# Now we can create the feed variable, by the next classes: \n",
    "\n",
    "from dhl_sdk import FlowVariableReference, VariableFlow\n",
    "\n",
    "# First we need to create a FlowVariableReference. \n",
    "# This class will contain the ID of the measured variable (X Variable) and the ID of the feed concentration variable. \n",
    "# To get the ID of each variable, just use the .id attribute.\n",
    "\n",
    "glc_reference = FlowVariableReference(measurementId = x_variable.id, concentrationId = feed_concentration.id)\n",
    "\n",
    "# Next, we create the VariableFlow, a variable type with the reference created before.\n",
    "bolus_feed_type = VariableFlow.new(flow_type=\"bolus\",\n",
    "                                   variable_references=[glc_reference],\n",
    "                                   volume_variable_id=bioreactor_volume.id)\n",
    "\n",
    "\n",
    "# In case you want to create a continuous feed, you need to add a step_size to the VariableFlow. \n",
    "# This step_size correspondes to the time between values in seconds. \n",
    "# If, for example, you have a feed of L/day, you should set step_size = 86400 (24*60*60)\n",
    "\n",
    "conti_feed_type = VariableFlow.new(flow_type=\"conti\",\n",
    "                                   variable_references=[glc_reference],\n",
    "                                   volume_variable_id=bioreactor_volume.id,\n",
    "                                   step_size=86400)\n",
    "\n",
    "\n",
    "# Now that we have the variable type with all the necessary references, we can create a new variable\n",
    "bolus_glc = Variable.new(code=\"BolusGlcSDK\",\n",
    "                         name=\"Bolus Glucose SDK\",\n",
    "                         description=\"Bolus of glucose\",\n",
    "                         measurement_unit=\"L\",\n",
    "                         variable_group=\"Feeds/Flows\",\n",
    "                         variable_type=bolus_feed_type)\n",
    "\n",
    "# Finally, we can import the new variable to the DB\n",
    "bolus_glc = client.create(bolus_glc)\n"
   ]
  },
  {
   "cell_type": "markdown",
   "metadata": {},
   "source": [
    "For a new experiment, your data needs to be in a specific format:\n",
    "\n",
    "    {\"Variable Code 1\": \n",
    "        {\n",
    "            \"timestamps\": [0,1,2], \n",
    "            \"values\": [val1, val2, val3] \n",
    "        },\n",
    "    \"Variable Code 2\":     \n",
    "        {\n",
    "            \"timestamps\": [0, 1, 2], \n",
    "            \"values\": [val1, val2, val3]  \n",
    "        }\n",
    "    }"
   ]
  },
  {
   "cell_type": "code",
   "execution_count": null,
   "metadata": {},
   "outputs": [],
   "source": [
    "run_data = {\n",
    "            \"EXv1\": {\n",
    "                \"timestamps\": [\n",
    "                    1600674350,\n",
    "                    1600760750,\n",
    "                    1600847150,\n",
    "\n",
    "                ],\n",
    "                \"values\": [\n",
    "                    5.1,\n",
    "                    3.5,\n",
    "                    1.3,\n",
    "                ]\n",
    "            },\n",
    "            \"EXv2\": {\n",
    "                \"timestamps\": [\n",
    "                    1600674350],\n",
    "                \"values\": [\n",
    "                    \"A\"]\n",
    "\n",
    "            }\n",
    "}"
   ]
  },
  {
   "cell_type": "markdown",
   "metadata": {},
   "source": [
    "After collecting your new experiment (as the `run_data` example above), you can create a new experiment using `Experiment.new` method. After that, use the `client.create` method to upload the data to the DB."
   ]
  },
  {
   "cell_type": "code",
   "execution_count": null,
   "metadata": {},
   "outputs": [],
   "source": [
    "from dhl_sdk import Experiment\n",
    "\n",
    "experiment = Experiment.new(name=\"SDK EXP\", \n",
    "                            description=\"new experiment example for sdk\", \n",
    "                            product=product, \n",
    "                            variables=[variable1, variable2], \n",
    "                            data_type=\"run\", \n",
    "                            data=run_data, \n",
    "                            variant=\"run\", \n",
    "                            start_time=\"2020-09-21T08:45:50Z\", \n",
    "                            end_time=\"2020-09-30T08:45:50Z\")\n",
    "\n",
    "client.create(experiment)"
   ]
  },
  {
   "cell_type": "markdown",
   "metadata": {},
   "source": [
    "Note: All timestamps on the new experiment must be in Unix Timestamp (Represents time as the number of seconds since the Unix epoch). \n",
    "\n",
    "In order to get from a datetime to a unix timestamp, we recomend you use the `datetime` module in python: "
   ]
  },
  {
   "cell_type": "code",
   "execution_count": null,
   "metadata": {},
   "outputs": [],
   "source": [
    "from datetime import datetime\n",
    "\n",
    "original_date = \"2020-09-21T08:45:50Z\"\n",
    "original_datetime = datetime.strptime(\"2020-09-21T08:45:50Z\", \"%Y-%m-%dT%H:%M:%SZ\")\n",
    "\n",
    "unix_timestamp = int(original_datetime.timestamp())"
   ]
  },
  {
   "cell_type": "markdown",
   "metadata": {},
   "source": [
    "Additionally, when adding data to a new experiment, all timestamps must be between `start_time` and `end_time` of the experiment to be valid."
   ]
  },
  {
   "cell_type": "markdown",
   "metadata": {},
   "source": [
    "If, for example, you want to add a new experiment with the same Product and Variables as an already created experiment, you can do it like this:"
   ]
  },
  {
   "cell_type": "code",
   "execution_count": null,
   "metadata": {},
   "outputs": [],
   "source": [
    "experiments = client.get_experiments(name=\"Experiment to Fork\")\n",
    "old_experiment = next(experiments)\n",
    "\n",
    "new_data = {\n",
    "            \"EXv1\": {\n",
    "                \"timestamps\": [\n",
    "                    1600674350,\n",
    "                    1600760750,\n",
    "                    1600847150,\n",
    "\n",
    "                ],\n",
    "                \"values\": [\n",
    "                    5.1,\n",
    "                    3.5,\n",
    "                    1.3,\n",
    "                ]\n",
    "            },\n",
    "            \"EXv2\": {\n",
    "                \"timestamps\": [\n",
    "                    1600674350],\n",
    "                \"values\": [\n",
    "                    \"A\"]\n",
    "\n",
    "            }\n",
    "}\n",
    "\n",
    "new_experiment = Experiment.new(name=\"Forked Experiment\",\n",
    "                                description=\"new experiment example for sdk\",\n",
    "                                product=old_experiment.product,\n",
    "                                variables=old_experiment.variables,\n",
    "                                data_type=\"run\",\n",
    "                                data=new_data,\n",
    "                                variant=\"run\",\n",
    "                                start_time=\"2020-09-21T08:45:50Z\", \n",
    "                                end_time=\"2020-09-30T08:45:50Z\")\n",
    "client.create(new_experiment)"
   ]
  },
  {
   "cell_type": "markdown",
   "metadata": {},
   "source": [
    "### Using your models \n",
    "\n",
    "DataHowLab's SDK also allows you to use your trained models to run new predictions based on new data. \n",
    "\n",
    "To access your models, you need to find your `project` of interest and, inside this project, find your model using the `get_models` method."
   ]
  },
  {
   "cell_type": "code",
   "execution_count": null,
   "metadata": {},
   "outputs": [],
   "source": [
    "projects = client.get_projects(name=\"exampleproject\")\n",
    "project = next(projects)\n",
    "\n",
    "models = project.get_models(name=\"ExampleModel\")\n",
    "model = next(models)"
   ]
  },
  {
   "cell_type": "markdown",
   "metadata": {},
   "source": [
    "Inside the model, you can access the dataset used by `model.dataset` and also check the variables used to train the model `model.model_variables`. This last property returns a list of the `Variable` class. If you want to just check the variable codes, you can use the method `model.get_model_variables_codes()`. "
   ]
  },
  {
   "cell_type": "code",
   "execution_count": null,
   "metadata": {},
   "outputs": [],
   "source": [
    "model_dataset = model.dataset \n",
    "# you can access the data inside the dataset \n",
    "model_data = model_dataset.get_data(client)\n",
    "\n",
    "\n",
    "variables = model.model_variables\n",
    "variable_codes = model.get_model_variables_codes()"
   ]
  },
  {
   "cell_type": "markdown",
   "metadata": {},
   "source": [
    "The available projects are Spectroscopy and Cultivation. Inside Cultivation, we can choose Historical and Propagation models."
   ]
  },
  {
   "cell_type": "markdown",
   "metadata": {},
   "source": [
    "#### Spectroscopy \n",
    "\n",
    "To search your **Spectroscopy** projects, you can add `project_type=\"spectroscopy\"` to the `get_projects` method. "
   ]
  },
  {
   "cell_type": "code",
   "execution_count": null,
   "metadata": {},
   "outputs": [],
   "source": [
    "projects = client.get_projects(name=\"Spectra\", project_type=\"spectroscopy\")\n",
    "project = next(projects)\n",
    "\n",
    "models = project.get_models(name=\"SpectraModel\")\n",
    "model_spectra = next(models)"
   ]
  },
  {
   "cell_type": "markdown",
   "metadata": {},
   "source": [
    "In order to use the model, we just need some data! The format used for the spectra is a 2d list, where each line is the spectra and the columns are corresponding to the wavenumbers. "
   ]
  },
  {
   "cell_type": "code",
   "execution_count": null,
   "metadata": {},
   "outputs": [],
   "source": [
    "spectra = [[1, 2, 3, 4, 5], [6, 7, 8, 9, 10], [11, 12, 13, 14, 15]]\n",
    "predictions = model_spectra.predict(spectra)"
   ]
  },
  {
   "cell_type": "markdown",
   "metadata": {},
   "source": [
    "You can also import this data from a .csv file or .xls file, you just need to convert the data to a list of lists. For example, using numpy to read an csv: "
   ]
  },
  {
   "cell_type": "code",
   "execution_count": null,
   "metadata": {},
   "outputs": [],
   "source": [
    "import numpy as np\n",
    "\n",
    "spectra = np.genfromtxt(\"demo-spectra.csv\", delimiter=',')\n",
    "predictions = model_spectra.predict(spectra)"
   ]
  },
  {
   "cell_type": "markdown",
   "metadata": {},
   "source": [
    "#### Cultivation\n",
    "\n",
    "To search your **Cultivation** projects, you can add `project_type=\"cultivation\"` to the `get_projects` method. \n",
    "\n",
    "After that, in the `get_models` method, you can select between `historical` and `propagation` models."
   ]
  },
  {
   "cell_type": "code",
   "execution_count": null,
   "metadata": {},
   "outputs": [],
   "source": [
    "projects = client.get_projects(name=\"CultivationProject\", project_type=\"cultivation\")\n",
    "project = next(projects)"
   ]
  },
  {
   "cell_type": "markdown",
   "metadata": {},
   "source": [
    "For Propagation models: "
   ]
  },
  {
   "cell_type": "code",
   "execution_count": null,
   "metadata": {},
   "outputs": [],
   "source": [
    "# by default model_type = \"propagation\", but you can also filter by model_type = \"historical\", to get the historical models\n",
    "\n",
    "models = project.get_models(name=\"CultivationModel\", model_type=\"propagation\")\n",
    "model_prop = next(models)"
   ]
  },
  {
   "cell_type": "markdown",
   "metadata": {},
   "source": [
    "The prediction function requires 2 arguments, `timestamps` and `inputs`, and two optional arguments, `timestamps_unit` and `config`. \n",
    "\n",
    "* `timestamps` is a list of the timestamps where we expect to have predictions. This list corresponds to relative `timestamps`, meaning that all values will be related to the first one. \n",
    "* `inputs` is a dictionary with the variables and the necessary values for predictions. The keys must be the Codes of the\n",
    "            input variables, and the values must be lists of the same length as the timestamps. \n",
    "* `timestamps_unit` is the unit of the timestamps. It can be `s`,`m`,`h`,`d` for 'seconds', 'minutes', 'hours', 'days'\n",
    "* `config` uses the `PredictionConfig` class to set the configuration that will be used by the model.\n",
    "\n",
    "The `PredictionConfig` class is used to define the parameters of the model prediction. The parameters, right now, include `model_confidence`, but this will be expanded.\n",
    "* `model_confidence` determines the range within which the predictions of the model are expected to fall, with a specified level of certainty, i.e, setting it to 80% corresponds to capturing the range between the 10th and 90th percentiles of the model's output.\n",
    "\n",
    "If no `config` is provided, the default `model_confidence` will be used (80%) \n",
    "\n",
    "As an example: "
   ]
  },
  {
   "cell_type": "code",
   "execution_count": null,
   "metadata": {},
   "outputs": [],
   "source": [
    "from dhl_sdk.entities import PredictionConfig\n",
    "\n",
    "timestamps = [1,2,3,4,5,6,7]\n",
    "inputs = {\"var1\": [42], \"var2\": [0.3], \"var3\": [0.5], \"var4\": [0,2,3,3,3,3,3]}\n",
    "\n",
    "prediction_config = PredictionConfig(model_confidence=80)\n",
    "\n",
    "result = model_prop.predict(timestamps, inputs, timestamps_unit=\"d\", config = prediction_config)"
   ]
  },
  {
   "cell_type": "markdown",
   "metadata": {},
   "source": [
    "The structure of the `inputs` for the **propagation** models follows the following rules:\n",
    "\n",
    "* All model variables must be present (To check what variables are needed for the prediction, use the `model_prop.model_variables` property.)\n",
    "* Some variable groups need to be complete for the prediction - `Flows/Feeds` and `W`. For this variable groups, the list of values must be of the same dimension as the `timestamps`.  \n",
    "* For the rest of the variables (`X`, `Z`, `Feed Concentration`), only the initial value must be provided. \n",
    "* Only `Z` variables can be of type different than `numeric`\n",
    "\n",
    "The prediction works from the initial given point onwards. "
   ]
  },
  {
   "cell_type": "markdown",
   "metadata": {},
   "source": [
    "As for `Historical` models, the prediction functionality works similarly.\n",
    "\n",
    "The prediction function requires 3 arguments, `timestamps`, `inputs`. \n",
    "\n",
    "* `timestamps` is a list of the timestamps where we expect to have predictions.\n",
    "* `steps` a list of steps for prediction in the run, , representing the steps from the start of the process. \n",
    "            This steps should match the length of the timestamps and start as 0.\n",
    "* `inputs` is a dictionary with the variables and the necessary values for predictions. The keys must be the Codes of the\n",
    "            input variables, and the values must be lists of the same length as the timestamps.\n",
    "* `config` uses the `PredictionConfig` class to set the configuration that will be used by the model. See also Propagation Model Example above.\n",
    "\n",
    "As an example: "
   ]
  },
  {
   "cell_type": "code",
   "execution_count": null,
   "metadata": {},
   "outputs": [],
   "source": [
    "models = project.get_models(name=\"HistoricalModel\", model_type=\"historical\")\n",
    "model_hist = next(models)\n",
    "\n",
    "timestamps = [86400, 172800, 259200, 345600, 432000, 518400, 604800]\n",
    "steps = [0,1,2,3,4,5,6]\n",
    "inputs = {\"var1\": [42], \"var2\": [0.3], \"var3\": [0.5], \"var4\": [0,2,3,3,3,3,3]}\n",
    "\n",
    "prediction_config = PredictionConfig(model_confidence=50)\n",
    "\n",
    "result = model_hist.predict(timestamps, steps, inputs, timestamps_unit=\"s\", config = prediction_config)"
   ]
  },
  {
   "cell_type": "markdown",
   "metadata": {},
   "source": [
    "The structure of the `inputs` for the **historical** models follows the following rules:\n",
    "\n",
    "* All model variables must be present. \n",
    "* Some variable groups need to be complete for the prediction - `Flows/Feeds` and `W`. For this variable groups, the list of values must be of the same dimension as the `timestamps` and not have missing values.\n",
    "* For `X` variables, the dimensions of the value list must be the same as the `timestamps`, however, missing values are allowed. For better prediction performance, it's advisable that you give the most complete input value list. \n",
    "* For `Z` and `Feed Concentration` variables, only the initial value must be provided. \n",
    "\n",
    "The prediction only returns the output variables prediction. "
   ]
  },
  {
   "cell_type": "markdown",
   "metadata": {},
   "source": [
    "#### Simulation with Propagation+Historical models\n",
    "\n",
    "The SDK can also be used to simulate how changes in the available experiments could affect the results.\n",
    "If you have accessed your reference experiment (`experiment`), propagation model (`model_prop`), and historical model (`model_hist`), you can edit the experiment data and run predictions with both models."
   ]
  },
  {
   "cell_type": "markdown",
   "metadata": {},
   "source": [
    "First you can simulate the process dynamics using the propagation model.\n",
    "Note that in your original data, X variables will have values the full duration of the run. As this is not desired for the simulation, these values must be removed."
   ]
  },
  {
   "cell_type": "code",
   "execution_count": null,
   "metadata": {},
   "outputs": [],
   "source": [
    "exp_data = experiment.get_data(client)\n",
    "\n",
    "# Change any variable you wish\n",
    "exp_data['var4']['values'] = [0,2,3,4,4,3,2]\n",
    "\n",
    "timestamps = exp_data['var1']['timestamps']\n",
    "inputs_prop = {var_code: content[\"values\"] for var_code, content in exp_data.items()}\n",
    "\n",
    "variables = model_prop.model_variables\n",
    "x_variables = [v.code for v in variables if v.group.code==\"X\"]\n",
    "\n",
    "for data in inputs_prop:\n",
    "    l = inputs_prop[data]\n",
    "    if data in x_variables:\n",
    "        inputs_prop[data]=l[:1] # keep only intial values for X variables\n",
    "    else:\n",
    "        inputs_prop[data] = [x for x in l if not pd.isna(x)]\n",
    "\n",
    "result_prop = model_prop.predict(timestamps, inputs_prop, timestamps_unit=\"d\")"
   ]
  },
  {
   "cell_type": "markdown",
   "metadata": {},
   "source": [
    "You can then use the results from the simulation with the propagation model to predict CQAs using the historical model."
   ]
  },
  {
   "cell_type": "code",
   "execution_count": null,
   "metadata": {},
   "outputs": [],
   "source": [
    "inputs_hist = inputs_prop.copy()\n",
    "\n",
    "for variable in result_prop.keys():\n",
    "    inputs_hist[variable] = result_prop[variable][\"values\"]\n",
    "\n",
    "steps = list(range(len(timestamps)))\n",
    "\n",
    "result_hist = model_hist.predict(timestamps, steps, inputs_hist, timestamps_unit=\"d\")"
   ]
  }
 ],
 "metadata": {
  "kernelspec": {
   "display_name": "datahowlab-sdk-G-n4vZbA-py3.10",
   "language": "python",
   "name": "python3"
  },
  "language_info": {
   "codemirror_mode": {
    "name": "ipython",
    "version": 3
   },
   "file_extension": ".py",
   "mimetype": "text/x-python",
   "name": "python",
   "nbconvert_exporter": "python",
   "pygments_lexer": "ipython3",
   "version": "3.10.10"
  }
 },
 "nbformat": 4,
 "nbformat_minor": 2
}
